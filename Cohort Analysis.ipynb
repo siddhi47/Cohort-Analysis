{
 "cells": [
  {
   "cell_type": "markdown",
   "metadata": {},
   "source": [
    "<h1>Cohort Analysis</h1>"
   ]
  },
  {
   "cell_type": "markdown",
   "metadata": {},
   "source": [
    "<p><strong>Cohort Analysis</strong> is an analytical techniques that focuses on analyzing the behavior of a group of users/customers over time, thereby uncovering insights about the experiences of those customers, and what companies can do to better those experiences. Instead of looking at all users in one broad view, cohort analysis breaks them down into groups. Cohort analysis measures the engagement of users over time. It tells us when the users fell in love with our products. This makes us easy to track down what certain actions we took that made customers keep coming back to use our service!</p>\n",
    "<p>Cohort is just a fancy word for groups. Groups that share certain characteristics. For example, groups of android users, groups of iOS users, groups of web users, etc</p>\n",
    "<p>For example. \n",
    "    \n",
    "<p>Let’s say that your customer Bob entered your online store four months ago in response to a 50% discount, looked through your wares, and bought a tiny trial set of your avocado cosmetics.</p>\n",
    "\n",
    "As a business owner, it is natural to ask yourself — are people like Bob coming back to my store as result of that trial set purchase? How fast is he going to come back and what value is he going to present to my company?\n",
    "\n",
    "So you ask your store attendant (their name is “Cookie” => browsers Cookie :)) to keep track of behavior of people like Bob, and see if they return and make a purchase, and how frequent those returns are.\n",
    "\n",
    "Now, four months later, you and “Cookie” sit down in your office desk and look through all Bob-like users that visited your store during the time of that specific promotion and bought a trial set. (by the way, this group of users that came in in that specific time frame is called a cohort).\n",
    "\n",
    "You realized that 70% of the people who bought the trial set never came back (bummer!), while 20% came back to your store at least once but didn’t buy anything, and the remaining 10% bought something in this four month period.</p>\n",
    "\n",
    "<img src = 'images/cohort.png'>Figure 1: Cohort analysis of desktop and mobile users. From the above image, we can see at a glance that the tablet/desktop users show more retention than the mobile users, though not so prominent! Overall the retention of customers do not look so good! Because at the beginning of week around 90% of the customer are retained. But after that, the retention is too low!</img>"
   ]
  },
  {
   "cell_type": "markdown",
   "metadata": {},
   "source": [
    "<h1>Customer Churn Analysis</h1>\n",
    "<h2>Churn</h2>\n",
    "<p>Churn rate, also known as the rate of attrition, is the percentage of users who stop using a product within a given period. For a business to grow, the number of new users must be a higher than the number of users who leave.</p>\n",
    "\\begin{align}\n",
    "    \\ Churn Rate & = \\frac{user At The Beginning Of The Period - Users At The End Of The Period}{Users At Beginning Of The Period}\\\\\n",
    "\\end{align}\n",
    "<br>\n",
    "<p>We Can calculate the monthly churn rate using the following formula. We can also calculate annual churn rate similarly.</p>\n",
    "<br>\n",
    "\\begin{align}\n",
    "    \\ Monthly Churn Rate & = \\frac{Users Lost This Month}{Users At The Start Of Month + Users Added This Month}\\\\\n",
    "\\end{align}\n",
    "<br>\n",
    "<p>Example of monthly churn rate:</p>\n",
    "Users at the beginning of the month = 2000<br>\n",
    "New users added that month = 400<br>\n",
    "Users lost at the end of the month = 366<br> \n",
    "Monthly churn rate = 366/(2000+400) = 15.2%"
   ]
  },
  {
   "cell_type": "markdown",
   "metadata": {},
   "source": [
    "<h2>Is that it?</h2>\n",
    "<p>The above formula seems a good place to start. But we have to keep in mind that rapid growth can make those equation less accurate! And in such case we might want to use formula such as probability calculation.</p>\n",
    "<p>For example!</p>\n",
    "<p>If the new users are being added at a fast pace, both churn and number of users go up. If the number of users is growing more than the churn rate, the rate will decrease. The problem is that the growing number of users can overshadow the churn rate. It can happen that the customers are leaving at an alarming rate as well.</p>\n",
    "<p> Each day a user uses the product is a time when they didn’t churn. So, over the course of ten days, there were ten opportunities for that user to leave forever.\n",
    "\n",
    "A <strong>user day</strong> is defined as one day that a user remained active.\n",
    "\n",
    "To calculate your probable monthly churn, start with the number of users who churn that month. Then divide by the total number of user days that month to get the number of churns per user day. Then multiply by the number of days in the month to get your resulting monthly churn rate.</p>\n",
    "<img src = \"images/Probability-Churn.jpg\">figure 2 :from : https://clevertap.com/blog/churn-rate/<img>"
   ]
  },
  {
   "cell_type": "markdown",
   "metadata": {},
   "source": [
    "<h2>Lets see what is the difference</h2>"
   ]
  },
  {
   "attachments": {},
   "cell_type": "markdown",
   "metadata": {},
   "source": [
    "<p>Let’s start a fictional subscription business: Butter of the Month.\n",
    "Every month we deliver a new and delicious variety of butter to\n",
    "our customers.<br><br>\n",
    "Butter of the Month starts July with 1000 customers. Of these\n",
    "original customers, 5% leave by the end of the month. We also\n",
    "add 500 new customers; 12 of whom leave by the end of July.\n",
    "By the basic definition, our churn rate is 6.2%.<br><br>\n",
    "Now, let’s imagine we have the same customer behavior in\n",
    "August. We start with the 1,438 customers from the end of July\n",
    "(of whom 5% churn), add 500 new customers and lose 12 of them.\n",
    "The basic definition produces a 5.8% churn rate in August.<br><br>\n",
    "Hooray, our churn rate went down! August must have been a great\n",
    "month. But in reality, there was no difference in customer behavior.\n",
    "We started August with more customers than in July, which made\n",
    "the denominator bigger, decreasing the churn rate.<br><br>\n",
    "A metric that changes based on similar inputs is unreliable. We\n",
    "don’t want to make important decisions about our business based\n",
    "on a metric that changes this much</p>\n",
    "<img src = \"images/Simple.png\">Figure 3 : Using the normal formula <br>From: https://info.recurly.com/hs-fs/hub/308856/file-1593548289-pdf/Guides/A-Better-Way-to-Calculate-Your-Churn-Rate.pdf<img>"
   ]
  },
  {
   "cell_type": "markdown",
   "metadata": {},
   "source": [
    "<p>Stephen Noble at Shopify proposes a better solution (our example is adapted\n",
    "from his post). Think of churn rate as a probability — how many customers\n",
    "churned, and how many opportunities did they have to churn?<br><br>\n",
    "Every day that a customer keeps her subscription is another day when she didn’t\n",
    "churn. If she is your customer for seven days and churned on the seventh day, she\n",
    "had seven opportunities to churn, and exercised that option on one of the seven\n",
    "days. Another way to think about this is that she churned on 1/7 of the days that she\n",
    "could have churned.<br><br>\n",
    "We can aggregate that probability across all of our customers and come up with a\n",
    "more accurate churn rate. It requires that we calculate the total number of customer\n",
    "days in the month.<br><br>\n",
    "A customer day is one day that one customer had an active subscription. We count\n",
    "the number of days in July that each customer had an active subscription, then sum\n",
    "that number across the entire business.</p>"
   ]
  },
  {
   "cell_type": "markdown",
   "metadata": {},
   "source": [
    "<p>Let’s go back to our fictional company, Butter of the Month:<br><br>\n",
    "To calculate churn rate, we start with the number of customer churns in July, same\n",
    "as before. Then, we divide by the total number of customer days in July. The result\n",
    "is churns per customer day. Churns per customer day is a little difficult to unpack, so\n",
    "we multiply by the number of days in the month, 31. The result is a churn rate of 5.1%</p>\n",
    "<p>We can see from the following graph that using the probability can predict the behaviour of customers and not only the numbers</p>\n",
    "<img src = \"images/probability.png\">Figure 4: Using the probability<br>From : \"https://info.recurly.com/hs-fs/hub/308856/file-1593548289-pdf/Guides/A-Better-Way-to-Calculate-Your-Churn-Rate.pdf\"</img>"
   ]
  },
  {
   "cell_type": "markdown",
   "metadata": {},
   "source": [
    "<h2>Where does the value 0.5 comes from?</h2>\n",
    "<p>Where does the 0.5 in “Customer days in month” come from? For the hypothetical company, we are assuming that the new subscription and the churn rate occur linearly (in the form of <i>y = mx + c</i> where m = .5, c = users at start, x = new users)</p>\n",
    "<p>This can also be visualized from the following graph, that shows the area of the triangle gives customer days or user days (where new the users were active)</p>\n",
    "<img src = \"images/0.5.png\">Figure : 5 Linear increase of new customers at a rate of 0.5<img>"
   ]
  },
  {
   "cell_type": "markdown",
   "metadata": {},
   "source": [
    "<h1>Using cohort analysis to reduce churn</h1>\n",
    "<p>As discussed already, cohort analysis breaks down the users into groups with certain characteristics and measures their engagement over time. It tells us when our service was the most popular or when the customer kept coming back to user our services. By knowing such information, it allows us to pinpoint what exactly happened during that time that helped retain or churn the customers. Perhaps an advertisement campaign? A video tutorial? New schemes? and so on!</p>\n",
    "<p>As shown in figure 1, we can then break down our users into cohorts, that is to dig deeper and focus on customers that need more attention instead of looking at all the users. Such approach allows us to tend to needs of specific type of customers. And the cohorts are backed up by strong statistics as well.</p>\n",
    "<h2>Boosting user engagements!</h2>\n",
    "<p>Since we know how to calculate churn, we next have to apply various strategy for each cohorts to increase their engagement in our products. Few ways to get started are:</p>\n",
    "<h3>Optimizing user experience</h3>\n",
    "Focusing friendly interfaces, lower number of clicks to get the job done\n",
    "<h3>Leveraging push notifications</h3>\n",
    "Sending automated notification to users for their engagement. Targetted advertisements.\n",
    "<h3>Personalize</h3>\n",
    "Using user name, their behaviours, preferences to interact with them\n",
    "<h3>Consider deep linking</h3>\n",
    "Mobile apps operate on URIs instead of URLs. That means deep links (or direct links) can take users right to a particular screen inside your app. \n",
    "<h3>Take advantage of in app messaging</h3>\n",
    "In-app messaging shows users the right message at exactly the right time. You can welcome new users launching your app for the first time and help them discover new features.\n",
    "<h3></h3>"
   ]
  },
  {
   "cell_type": "markdown",
   "metadata": {},
   "source": [
    "<h1>Churn Prediction:Taking one step further</h1>\n",
    "<p>From a machine learning perspective, churn can be formulated as a binary classification problem. The most common solution is to label “churners” over a specific period of time as one class and users who stay engaged with the product as the complementary class. </p>"
   ]
  },
  {
   "cell_type": "code",
   "execution_count": null,
   "metadata": {},
   "outputs": [],
   "source": []
  }
 ],
 "metadata": {
  "kernelspec": {
   "display_name": "Python 3",
   "language": "python",
   "name": "python3"
  },
  "language_info": {
   "codemirror_mode": {
    "name": "ipython",
    "version": 3
   },
   "file_extension": ".py",
   "mimetype": "text/x-python",
   "name": "python",
   "nbconvert_exporter": "python",
   "pygments_lexer": "ipython3",
   "version": "3.6.5"
  }
 },
 "nbformat": 4,
 "nbformat_minor": 2
}
